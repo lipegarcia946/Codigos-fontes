{
 "cells": [
  {
   "cell_type": "code",
   "execution_count": 1,
   "metadata": {},
   "outputs": [],
   "source": [
    "import pandas as pd\n",
    "import numpy as np\n",
    "import matplotlib.pyplot as plt\n",
    "import seaborn as sb\n",
    "\n",
    "%matplotlib inline"
   ]
  },
  {
   "cell_type": "code",
   "execution_count": 2,
   "metadata": {},
   "outputs": [
    {
     "data": {
      "text/html": [
       "<div>\n",
       "<style scoped>\n",
       "    .dataframe tbody tr th:only-of-type {\n",
       "        vertical-align: middle;\n",
       "    }\n",
       "\n",
       "    .dataframe tbody tr th {\n",
       "        vertical-align: top;\n",
       "    }\n",
       "\n",
       "    .dataframe thead th {\n",
       "        text-align: right;\n",
       "    }\n",
       "</style>\n",
       "<table border=\"1\" class=\"dataframe\">\n",
       "  <thead>\n",
       "    <tr style=\"text-align: right;\">\n",
       "      <th></th>\n",
       "      <th>pos_x</th>\n",
       "      <th>pos_y</th>\n",
       "      <th>dir_XY</th>\n",
       "    </tr>\n",
       "    <tr>\n",
       "      <th>amostras</th>\n",
       "      <th></th>\n",
       "      <th></th>\n",
       "      <th></th>\n",
       "    </tr>\n",
       "  </thead>\n",
       "  <tbody>\n",
       "    <tr>\n",
       "      <th>1</th>\n",
       "      <td>103.202194</td>\n",
       "      <td>107.192296</td>\n",
       "      <td>0</td>\n",
       "    </tr>\n",
       "    <tr>\n",
       "      <th>2</th>\n",
       "      <td>95.334588</td>\n",
       "      <td>100.972682</td>\n",
       "      <td>1</td>\n",
       "    </tr>\n",
       "    <tr>\n",
       "      <th>3</th>\n",
       "      <td>95.823021</td>\n",
       "      <td>99.271472</td>\n",
       "      <td>1</td>\n",
       "    </tr>\n",
       "    <tr>\n",
       "      <th>4</th>\n",
       "      <td>92.094604</td>\n",
       "      <td>97.125474</td>\n",
       "      <td>1</td>\n",
       "    </tr>\n",
       "    <tr>\n",
       "      <th>5</th>\n",
       "      <td>102.248351</td>\n",
       "      <td>101.401054</td>\n",
       "      <td>0</td>\n",
       "    </tr>\n",
       "  </tbody>\n",
       "</table>\n",
       "</div>"
      ],
      "text/plain": [
       "               pos_x       pos_y  dir_XY\n",
       "amostras                                \n",
       "1         103.202194  107.192296       0\n",
       "2          95.334588  100.972682       1\n",
       "3          95.823021   99.271472       1\n",
       "4          92.094604   97.125474       1\n",
       "5         102.248351  101.401054       0"
      ]
     },
     "execution_count": 2,
     "metadata": {},
     "output_type": "execute_result"
    }
   ],
   "source": [
    "df=pd.read_csv(\"simulacao1.csv\", delimiter=\";\", index_col=0)\n",
    "df[\"pos_x\"] = df[\"pos_x\"].str.replace(\",\", \".\")\n",
    "df[\"pos_y\"] = df[\"pos_y\"].str.replace(\",\",\".\" )\n",
    "df[\"pos_x\"] = df.pos_x.astype(float)\n",
    "df[\"pos_y\"] = df.pos_y.astype(float)\n",
    "df.head()\n"
   ]
  },
  {
   "cell_type": "code",
   "execution_count": 3,
   "metadata": {},
   "outputs": [
    {
     "data": {
      "text/plain": [
       "array([[107.1922955 ,   0.        ],\n",
       "       [100.9726818 ,   1.        ],\n",
       "       [ 99.27147201,   1.        ],\n",
       "       [ 97.12547378,   1.        ],\n",
       "       [101.4010539 ,   0.        ],\n",
       "       [103.5040443 ,   0.        ],\n",
       "       [ 88.12713784,   1.        ],\n",
       "       [100.9842097 ,   0.        ],\n",
       "       [ 85.55158527,   2.        ],\n",
       "       [ 97.43507715,   1.        ],\n",
       "       [ 89.51707312,   1.        ],\n",
       "       [105.3056283 ,   1.        ],\n",
       "       [ 92.86701495,   0.        ],\n",
       "       [106.0224011 ,   1.        ],\n",
       "       [ 97.02088189,   1.        ],\n",
       "       [ 95.25767862,   1.        ],\n",
       "       [ 99.70888211,   1.        ],\n",
       "       [ 99.7471491 ,   0.        ],\n",
       "       [ 88.61740096,   1.        ],\n",
       "       [ 92.89855168,   0.        ],\n",
       "       [ 99.50753136,   0.        ],\n",
       "       [102.1629148 ,   0.        ],\n",
       "       [102.8418526 ,   0.        ],\n",
       "       [100.3102514 ,   0.        ],\n",
       "       [ 96.3368964 ,   0.        ],\n",
       "       [ 92.6932901 ,   0.        ],\n",
       "       [106.2050049 ,   1.        ],\n",
       "       [ 94.42650278,   2.        ],\n",
       "       [103.7589871 ,   2.        ],\n",
       "       [ 97.7186917 ,   1.        ],\n",
       "       [ 96.49188567,   0.        ],\n",
       "       [ 78.19722921,   0.        ],\n",
       "       [ 94.95935299,   2.        ],\n",
       "       [110.1124442 ,   0.        ],\n",
       "       [ 78.79895091,   1.        ],\n",
       "       [101.6681042 ,   2.        ],\n",
       "       [117.023649  ,   0.        ],\n",
       "       [ 98.77179562,   0.        ],\n",
       "       [ 89.5909923 ,   1.        ],\n",
       "       [ 99.41483111,   0.        ],\n",
       "       [108.6923819 ,   1.        ],\n",
       "       [103.5765311 ,   0.        ],\n",
       "       [111.1431291 ,   1.        ],\n",
       "       [113.8052656 ,   1.        ],\n",
       "       [ 96.47072855,   0.        ],\n",
       "       [ 96.99367663,   1.        ],\n",
       "       [ 96.09528913,   2.        ],\n",
       "       [102.0463858 ,   1.        ],\n",
       "       [ 96.45770004,   0.        ],\n",
       "       [ 98.95119345,   1.        ],\n",
       "       [105.9619879 ,   1.        ],\n",
       "       [ 89.43587798,   0.        ],\n",
       "       [ 84.36710484,   0.        ],\n",
       "       [107.8064659 ,   1.        ],\n",
       "       [106.3784341 ,   2.        ],\n",
       "       [ 98.37376663,   2.        ],\n",
       "       [ 95.38314341,   1.        ],\n",
       "       [ 92.03066636,   1.        ],\n",
       "       [114.8234449 ,   1.        ],\n",
       "       [120.4212483 ,   1.        ],\n",
       "       [102.7273359 ,   1.        ],\n",
       "       [106.9088287 ,   0.        ],\n",
       "       [104.0554141 ,   1.        ],\n",
       "       [ 86.69318302,   2.        ],\n",
       "       [ 95.71593889,   2.        ],\n",
       "       [101.6750846 ,   0.        ],\n",
       "       [105.3585381 ,   1.        ],\n",
       "       [ 89.42519142,   0.        ],\n",
       "       [104.9634991 ,   1.        ],\n",
       "       [104.1769795 ,   1.        ],\n",
       "       [108.0410018 ,   0.        ],\n",
       "       [ 91.24943315,   1.        ],\n",
       "       [ 97.47932407,   1.        ],\n",
       "       [106.2384288 ,   1.        ],\n",
       "       [106.2328468 ,   1.        ],\n",
       "       [101.9581876 ,   1.        ],\n",
       "       [ 99.75939318,   0.        ],\n",
       "       [122.5343683 ,   0.        ],\n",
       "       [101.8335641 ,   1.        ],\n",
       "       [106.1975925 ,   0.        ],\n",
       "       [101.8491278 ,   2.        ],\n",
       "       [ 97.59365892,   1.        ],\n",
       "       [ 97.56530542,   1.        ],\n",
       "       [106.8062491 ,   0.        ],\n",
       "       [105.1303232 ,   0.        ],\n",
       "       [ 95.59319122,   1.        ],\n",
       "       [ 92.85123522,   1.        ],\n",
       "       [118.6228135 ,   1.        ],\n",
       "       [ 93.8994506 ,   0.        ],\n",
       "       [108.3687837 ,   0.        ],\n",
       "       [103.647574  ,   0.        ],\n",
       "       [ 89.21819042,   0.        ],\n",
       "       [ 88.65534963,   0.        ],\n",
       "       [100.2214847 ,   0.        ],\n",
       "       [ 99.08495738,   0.        ],\n",
       "       [ 98.11428779,   1.        ],\n",
       "       [ 92.22773113,   2.        ],\n",
       "       [109.7973043 ,   0.        ],\n",
       "       [ 97.2448677 ,   1.        ],\n",
       "       [108.230586  ,   1.        ]])"
      ]
     },
     "execution_count": 3,
     "metadata": {},
     "output_type": "execute_result"
    }
   ],
   "source": [
    "X = df.iloc[:, 1:3].values\n",
    "X"
   ]
  },
  {
   "cell_type": "code",
   "execution_count": null,
   "metadata": {},
   "outputs": [],
   "source": []
  },
  {
   "cell_type": "code",
   "execution_count": 4,
   "metadata": {},
   "outputs": [
    {
     "data": {
      "text/plain": [
       "KMeans(algorithm='auto', copy_x=True, init='random', max_iter=300,\n",
       "    n_clusters=3, n_init=10, n_jobs=1, precompute_distances='auto',\n",
       "    random_state=None, tol=0.0001, verbose=0)"
      ]
     },
     "execution_count": 4,
     "metadata": {},
     "output_type": "execute_result"
    }
   ],
   "source": [
    "from sklearn.cluster import KMeans\n",
    "kmeans = KMeans(n_clusters = 3, init='random')\n",
    "kmeans.fit(X)"
   ]
  },
  {
   "cell_type": "code",
   "execution_count": 5,
   "metadata": {},
   "outputs": [
    {
     "data": {
      "text/plain": [
       "array([[ 88.90060191,   0.66666667],\n",
       "       [109.44017659,   0.64285714],\n",
       "       [ 99.32239792,   0.76470588]])"
      ]
     },
     "execution_count": 5,
     "metadata": {},
     "output_type": "execute_result"
    }
   ],
   "source": [
    "kmeans.cluster_centers_"
   ]
  },
  {
   "cell_type": "code",
   "execution_count": 6,
   "metadata": {},
   "outputs": [
    {
     "data": {
      "text/plain": [
       "array([[18.30383836,  7.90696295,  2.33799801],\n",
       "       [12.076681  ,  1.66697337,  8.47502325],\n",
       "       [10.3762256 ,  0.24074212, 10.17497439],\n",
       "       [ 8.23162368,  2.2094884 , 12.31988053],\n",
       "       [12.5182165 ,  2.2148557 ,  8.06478512],\n",
       "       [14.61865158,  4.25099301,  5.97084013],\n",
       "       [ 0.8422338 , 11.19773243, 21.31603087],\n",
       "       [12.1019842 ,  1.82931503,  8.480368  ],\n",
       "       [ 3.60467616, 13.82610692, 23.92711082],\n",
       "       [ 8.5409823 ,  1.90193139, 12.01041064],\n",
       "       [ 0.70081942,  9.80814751, 19.9263043 ],\n",
       "       [16.40841254,  5.98785514,  4.14994465],\n",
       "       [ 4.02204884,  6.50051877, 16.58562486],\n",
       "       [17.12504361,  6.7041335 ,  3.43638478],\n",
       "       [ 8.12711868,  2.31351234, 12.42442884],\n",
       "       [ 6.36580988,  4.07152383, 14.18699404],\n",
       "       [10.81341907,  0.4524747 ,  9.73784593],\n",
       "       [10.86701571,  0.87475062,  9.71432176],\n",
       "       [ 0.43739443, 10.70758251, 20.82583818],\n",
       "       [ 4.0531527 ,  6.46920208, 16.55411188],\n",
       "       [10.62785946,  0.78679697,  9.95342688],\n",
       "       [13.27905824,  2.94165111,  7.3056009 ],\n",
       "       [13.95718149,  3.60157415,  6.62956596],\n",
       "       [11.42910959,  1.24925161,  9.15252967],\n",
       "       [ 7.46611815,  3.08188163, 13.11904025],\n",
       "       [ 3.85083473,  6.67306867, 16.75922052],\n",
       "       [17.30761318,  6.88662778,  3.25482517],\n",
       "       [ 5.68448399,  5.04933072, 15.07488766],\n",
       "       [14.9180893 ,  4.60535288,  5.84104021],\n",
       "       [ 8.82438772,  1.62087536, 11.72692454],\n",
       "       [ 7.62050087,  2.93199159, 12.9642394 ],\n",
       "       [10.72411449, 21.13900489, 31.24956042],\n",
       "       [ 6.20372811,  4.53454657, 14.54428028],\n",
       "       [21.22231603, 10.81711024,  0.93016614],\n",
       "       [10.10714915, 20.52479574, 30.64330698],\n",
       "       [12.8369347 ,  2.65109214,  7.88967338],\n",
       "       [28.13094776, 17.71776129,  7.61067139],\n",
       "       [ 9.89368029,  0.94230461, 10.68773212],\n",
       "       [ 0.76664855,  9.73424977, 19.85239704],\n",
       "       [10.53534338,  0.77027202, 10.04593536],\n",
       "       [19.79458679,  9.37293781,  0.82870255],\n",
       "       [14.69106334,  4.322317  ,  5.89877985],\n",
       "       [22.24502477, 11.82307274,  1.7399995 ],\n",
       "       [24.90689432, 14.4847789 ,  4.37967499],\n",
       "       [ 7.5994251 ,  2.95242159, 12.98537053],\n",
       "       [ 8.09993639,  2.34057817, 12.45162288],\n",
       "       [ 7.31719222,  3.45545694, 13.41371903],\n",
       "       [13.15000932,  2.73413118,  7.40241132],\n",
       "       [ 7.5864469 ,  2.96500742, 12.99838308],\n",
       "       [10.05611761,  0.43949525, 10.49506162],\n",
       "       [17.0646419 ,  6.64375786,  3.49647646],\n",
       "       [ 0.85496486,  9.9160502 , 20.01462536],\n",
       "       [ 4.58225274, 14.97483109, 25.08131162],\n",
       "       [18.9088023 ,  8.48733014,  1.67229233],\n",
       "       [17.52861648,  7.16335104,  3.34904521],\n",
       "       [ 9.56653687,  1.55751497, 11.14931685],\n",
       "       [ 6.49110587,  3.94627538, 14.06156936],\n",
       "       [ 3.14776342,  7.29552688, 17.4131731 ],\n",
       "       [25.92498601, 15.50283267,  5.39510229],\n",
       "       [31.52240885, 21.10016234, 10.98687794],\n",
       "       [13.83075139,  3.41305816,  6.7223345 ],\n",
       "       [18.0205626 ,  7.62487424,  2.61170202],\n",
       "       [15.15847762,  4.73886121,  5.3965932 ],\n",
       "       [ 2.57885167, 12.68948464, 22.78744289],\n",
       "       [ 6.94453713,  3.8121514 , 13.79117607],\n",
       "       [12.79186665,  2.47384513,  7.79165701],\n",
       "       [16.46131145,  6.04072443,  4.09723368],\n",
       "       [ 0.84831515,  9.92670497, 20.02530641],\n",
       "       [16.06635544,  5.64600619,  4.49090107],\n",
       "       [15.28001385,  4.86028041,  5.27530043],\n",
       "       [19.15200648,  8.75207568,  1.5397907 ],\n",
       "       [ 2.37236576,  8.07639297, 18.19424904],\n",
       "       [ 8.58519569,  1.85803243, 11.96618336],\n",
       "       [17.34103089,  6.92003226,  3.22160518],\n",
       "       [17.33544992,  6.91445349,  3.22715284],\n",
       "       [13.06183965,  2.64627107,  7.49050801],\n",
       "       [10.87923675,  0.880761  ,  9.70210455],\n",
       "       [33.64037286, 23.22456338, 13.10996269],\n",
       "       [12.93725713,  2.52216552,  7.6149921 ],\n",
       "       [17.30983327,  6.91759175,  3.30569462],\n",
       "       [13.01699276,  2.8125283 ,  7.71141093],\n",
       "       [ 8.69944546,  1.74467815, 11.85189993],\n",
       "       [ 8.67111285,  1.77277674, 11.88024059],\n",
       "       [17.91805363,  7.52281886,  2.71124314],\n",
       "       [16.24340782,  5.85805183,  4.35753389],\n",
       "       [ 6.70088522,  3.73662226, 13.85159034],\n",
       "       [ 3.96467081,  6.47543898, 16.59278539],\n",
       "       [29.72408069, 19.30184978,  9.18957951],\n",
       "       [ 5.04310744,  5.47659864, 15.55401651],\n",
       "       [19.47959308,  9.07864918,  1.2494591 ],\n",
       "       [14.76203341,  4.39225719,  5.82816524],\n",
       "       [ 0.73844899, 10.13310338, 20.23220181],\n",
       "       [ 0.71034719, 10.69442351, 20.7947661 ],\n",
       "       [11.34049521,  1.18031018,  9.24107924],\n",
       "       [10.2061521 ,  0.80072036, 10.37515447],\n",
       "       [ 9.21971359,  1.23081006, 11.33151835],\n",
       "       [ 3.58435024,  7.201406  , 17.26586562],\n",
       "       [20.90733401, 10.50278243,  0.7353948 ],\n",
       "       [ 8.35092107,  2.09081207, 12.20053728],\n",
       "       [19.33285794,  8.91129498,  1.26121387]])"
      ]
     },
     "execution_count": 6,
     "metadata": {},
     "output_type": "execute_result"
    }
   ],
   "source": [
    "distance = kmeans.fit_transform(X)\n",
    "distance"
   ]
  },
  {
   "cell_type": "code",
   "execution_count": 7,
   "metadata": {},
   "outputs": [
    {
     "data": {
      "text/plain": [
       "array([2, 1, 1, 1, 1, 1, 0, 1, 0, 1, 0, 2, 0, 2, 1, 1, 1, 1, 0, 0, 1, 1,\n",
       "       1, 1, 1, 0, 2, 1, 1, 1, 1, 0, 1, 2, 0, 1, 2, 1, 0, 1, 2, 1, 2, 2,\n",
       "       1, 1, 1, 1, 1, 1, 2, 0, 0, 2, 2, 1, 1, 0, 2, 2, 1, 2, 1, 0, 1, 1,\n",
       "       2, 0, 2, 1, 2, 0, 1, 2, 2, 1, 1, 2, 1, 2, 1, 1, 1, 2, 2, 1, 0, 2,\n",
       "       0, 2, 1, 0, 0, 1, 1, 1, 0, 2, 1, 2])"
      ]
     },
     "execution_count": 7,
     "metadata": {},
     "output_type": "execute_result"
    }
   ],
   "source": [
    "labels = kmeans.labels_\n",
    "labels"
   ]
  },
  {
   "cell_type": "code",
   "execution_count": 8,
   "metadata": {},
   "outputs": [],
   "source": [
    "# R3 = np.random.rand(100)\n",
    "# R4 = np.random.rand(100)\n",
    "# R5 = []\n",
    "\n",
    "# for (i, j) in zip(R3, R4):\n",
    "#     R5.append([i, j])\n",
    "    \n",
    "# teste = np.array(R5)"
   ]
  },
  {
   "cell_type": "code",
   "execution_count": 9,
   "metadata": {},
   "outputs": [],
   "source": [
    "#kmeans.predict(R5)"
   ]
  },
  {
   "cell_type": "code",
   "execution_count": null,
   "metadata": {},
   "outputs": [],
   "source": []
  },
  {
   "cell_type": "code",
   "execution_count": 10,
   "metadata": {
    "scrolled": true
   },
   "outputs": [
    {
     "data": {
      "text/plain": [
       "<seaborn.axisgrid.PairGrid at 0x210b04c6320>"
      ]
     },
     "execution_count": 10,
     "metadata": {},
     "output_type": "execute_result"
    },
    {
     "data": {
      "image/png": "[encoded data removed]",
      "text/plain": [
       "<Figure size 540x540 with 12 Axes>"
      ]
     },
     "metadata": {},
     "output_type": "display_data"
    }
   ],
   "source": [
    "sb.pairplot(df)"
   ]
  },
  {
   "cell_type": "code",
   "execution_count": 11,
   "metadata": {
    "scrolled": false
   },
   "outputs": [
    {
     "data": {
      "text/plain": [
       "<seaborn.axisgrid.PairGrid at 0x210b26bf4e0>"
      ]
     },
     "execution_count": 11,
     "metadata": {},
     "output_type": "execute_result"
    },
    {
     "data": {
      "image/png": "[encoded data removed]",
      "text/plain": [
       "<Figure size 582.375x540 with 12 Axes>"
      ]
     },
     "metadata": {},
     "output_type": "display_data"
    }
   ],
   "source": [
    "sb.pairplot(df,\"dir_XY\")"
   ]
  },
  {
   "cell_type": "code",
   "execution_count": 12,
   "metadata": {},
   "outputs": [],
   "source": [
    "# plt.scatter(X[:, 0], X[:,1], s = 100, c = kmeans.labels_)\n",
    "# plt.scatter(kmeans.cluster_centers_[:, 0], kmeans.cluster_centers_[:, 1], s = 300, c = 'red',label = None)\n",
    "# plt.title('Iris Clusters and Centroids')\n",
    "# plt.xlabel('pos_x')\n",
    "# plt.ylabel('pos_y')\n",
    "# plt.legend()\n",
    " \n",
    "plt.show()\n"
   ]
  },
  {
   "cell_type": "code",
   "execution_count": 13,
   "metadata": {},
   "outputs": [
    {
     "data": {
      "text/plain": [
       "(100, 3)"
      ]
     },
     "execution_count": 13,
     "metadata": {},
     "output_type": "execute_result"
    }
   ],
   "source": [
    "df.shape\n"
   ]
  },
  {
   "cell_type": "code",
   "execution_count": null,
   "metadata": {},
   "outputs": [],
   "source": []
  },
  {
   "cell_type": "code",
   "execution_count": null,
   "metadata": {},
   "outputs": [],
   "source": []
  },
  {
   "cell_type": "code",
   "execution_count": null,
   "metadata": {},
   "outputs": [],
   "source": []
  },
  {
   "cell_type": "code",
   "execution_count": null,
   "metadata": {},
   "outputs": [],
   "source": []
  },
  {
   "cell_type": "code",
   "execution_count": null,
   "metadata": {},
   "outputs": [],
   "source": []
  }
 ],
 "metadata": {
  "kernelspec": {
   "display_name": "Python 3",
   "language": "python",
   "name": "python3"
  },
  "language_info": {
   "codemirror_mode": {
    "name": "ipython",
    "version": 3
   },
   "file_extension": ".py",
   "mimetype": "text/x-python",
   "name": "python",
   "nbconvert_exporter": "python",
   "pygments_lexer": "ipython3",
   "version": "3.6.5"
  }
 },
 "nbformat": 4,
 "nbformat_minor": 2
}
